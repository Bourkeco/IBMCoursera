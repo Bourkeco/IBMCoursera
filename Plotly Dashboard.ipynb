{
 "cells": [
  {
   "cell_type": "code",
   "execution_count": 12,
   "id": "2118714e-0a24-44e4-8c39-d2e976287a58",
   "metadata": {},
   "outputs": [],
   "source": [
    "import wget"
   ]
  },
  {
   "cell_type": "code",
   "execution_count": 16,
   "id": "33325a0a-01ee-4e72-b31d-6eb50ed5b1d6",
   "metadata": {},
   "outputs": [],
   "source": [
    "spacex_csv_file = wget.download(\"https://cf-courses-data.s3.us.cloud-object-storage.appdomain.cloud/IBM-DS0321EN-SkillsNetwork/datasets/spacex_launch_dash.csv\")\n",
    "spacex_df=pd.read_csv(spacex_csv_file)"
   ]
  },
  {
   "cell_type": "code",
   "execution_count": 44,
   "id": "298aeb62-9efb-4610-905d-79a006e90bdf",
   "metadata": {},
   "outputs": [
    {
     "data": {
      "text/html": [
       "\n",
       "        <iframe\n",
       "            width=\"100%\"\n",
       "            height=\"650\"\n",
       "            src=\"http://127.0.0.1:8050/\"\n",
       "            frameborder=\"0\"\n",
       "            allowfullscreen\n",
       "            \n",
       "        ></iframe>\n",
       "        "
      ],
      "text/plain": [
       "<IPython.lib.display.IFrame at 0x1a6b65deb60>"
      ]
     },
     "metadata": {},
     "output_type": "display_data"
    }
   ],
   "source": [
    "# Import required libraries\n",
    "import pandas as pd\n",
    "import dash\n",
    "import dash_html_components as html\n",
    "import dash_core_components as dcc\n",
    "from dash.dependencies import Input, Output\n",
    "import plotly.express as px\n",
    "\n",
    "# Read the airline data into pandas dataframe\n",
    "#spacex_df = pd.read_csv(\"spacex_launch_dash.csv\")\n",
    "max_payload = spacex_df['Payload Mass (kg)'].max()\n",
    "min_payload = spacex_df['Payload Mass (kg)'].min()\n",
    "\n",
    "# Create a dash application\n",
    "app = dash.Dash(__name__)\n",
    "\n",
    "# Create an app layout\n",
    "app.layout = html.Div(children=[\n",
    "    html.H1('SpaceX Launch Records Dashboard',\n",
    "            style={'textAlign': 'center', 'color': '#503D36', 'font-size': 40}),\n",
    "    # TASK 1: Add a dropdown list to enable Launch Site selection\n",
    "    # The default select value is for ALL sites\n",
    "    dcc.Dropdown(\n",
    "        id='site-dropdown',\n",
    "        options=[\n",
    "            {'label': 'All Sites', 'value': 'ALL'},\n",
    "            {'label': 'CCAFS LC-40', 'value': 'CCAFS LC-40'},\n",
    "            {'label': 'VAFB SLC-4E', 'value': 'VAFB SLC-4E'},\n",
    "            {'label': 'KSC LC-39A', 'value': 'KSC LC-39A'},\n",
    "            {'label': 'CCAFS SLC-40', 'value': 'CCAFS SLC-40'}\n",
    "        ],\n",
    "        value='ALL',\n",
    "        placeholder=\"Select a Launch Site here\",\n",
    "        searchable=True\n",
    "    ),\n",
    "    html.Br(),\n",
    "\n",
    "    # TASK 2: Add a pie chart to show the total successful launches count for all sites\n",
    "    # If a specific launch site was selected, show the Success vs. Failed counts for the site\n",
    "    html.Div(dcc.Graph(id='success-pie-chart')),\n",
    "    html.Br(),\n",
    "\n",
    "    html.P(\"Payload range (Kg):\"),\n",
    "    # TASK 3: Add a slider to select payload range\n",
    "    dcc.RangeSlider(id='payload-slider', min=0, max=10000, step=1000, marks={i: f'{i}' for i in range(0, 10001, 2000)}, value=[0, 10000]),\n",
    "\n",
    "    # TASK 4: Add a scatter chart to show the correlation between payload and launch success\n",
    "    html.Div(dcc.Graph(id='success-payload-scatter-chart')),\n",
    "])\n",
    "\n",
    "# TASK 2:\n",
    "# Add a callback function for `site-dropdown` as input, `success-pie-chart` as output\n",
    "# Function decorator to specify function input and output\n",
    "@app.callback(Output(component_id='success-pie-chart', component_property='figure'),\n",
    "              Input(component_id='site-dropdown', component_property='value'))\n",
    "def get_pie_chart(entered_site):\n",
    "    filtered_df = spacex_df\n",
    "    if entered_site == 'ALL':\n",
    "        fig = px.pie(filtered_df, values='class', names='Launch Site', title='All Sites')\n",
    "        return fig\n",
    "    else:\n",
    "        # Filter data\n",
    "        filtered_df = spacex_df[spacex_df['Launch Site'] == entered_site]\n",
    "        \n",
    "        # Count occurrences of each class\n",
    "        class_counts = filtered_df['class'].value_counts().reset_index()\n",
    "        class_counts.columns = ['class', 'count']  # Rename columns\n",
    "        \n",
    "        # Create pie chart\n",
    "        fig = px.pie(class_counts, values='count', names='class', title=f'{entered_site}: Class Distribution')\n",
    "        return fig\n",
    "\n",
    "\n",
    "# TASK 4:\n",
    "# Add a callback function for `site-dropdown` and `payload-slider` as inputs, `success-payload-scatter-chart` as output\n",
    "@app.callback(Output(component_id='success-payload-scatter-chart', component_property='figure'),\n",
    "              [Input(component_id='site-dropdown', component_property='value'), \n",
    "               Input(component_id=\"payload-slider\", component_property=\"value\")])\n",
    "\n",
    "def get_scatter_chart(entered_site, payload_range):\n",
    "    filtered_df = spacex_df\n",
    "    if entered_site == 'ALL':\n",
    "        fig = px.scatter(filtered_df, x='Payload Mass (kg)', y='class', color='Booster Version Category', title='Correlation between Payload (kg) and Success for all sites')\n",
    "    else:\n",
    "        # Filter data\n",
    "        filtered_df = spacex_df[spacex_df['Launch Site'] == entered_site]\n",
    "        \n",
    "        # Create scatter chart\n",
    "        fig = px.scatter(filtered_df, x='Payload Mass (kg)', y='class', color='Booster Version Category', title=f'Correlation between Payload (kg) and Success for: {entered_site}')\n",
    "\n",
    "    # Apply payload range filter\n",
    "    filtered_df = filtered_df[(filtered_df['Payload Mass (kg)'] >= payload_range[0]) & (filtered_df['Payload Mass (kg)'] <= payload_range[1])]\n",
    "    fig = px.scatter(filtered_df, x='Payload Mass (kg)', y='class', color='Booster Version Category', title=fig.layout.title.text)\n",
    "    \n",
    "    return fig\n",
    "    \n",
    "# Run the app\n",
    "if __name__ == '__main__':\n",
    "    app.run_server()\n"
   ]
  },
  {
   "cell_type": "code",
   "execution_count": null,
   "id": "4ef6d56e-3c43-4344-8b76-f9e700b4d8fc",
   "metadata": {},
   "outputs": [],
   "source": []
  }
 ],
 "metadata": {
  "kernelspec": {
   "display_name": "Python [conda env:base] *",
   "language": "python",
   "name": "conda-base-py"
  },
  "language_info": {
   "codemirror_mode": {
    "name": "ipython",
    "version": 3
   },
   "file_extension": ".py",
   "mimetype": "text/x-python",
   "name": "python",
   "nbconvert_exporter": "python",
   "pygments_lexer": "ipython3",
   "version": "3.10.16"
  }
 },
 "nbformat": 4,
 "nbformat_minor": 5
}
